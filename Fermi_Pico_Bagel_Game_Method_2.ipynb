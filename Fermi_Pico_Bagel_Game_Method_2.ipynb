{
 "cells": [
  {
   "cell_type": "markdown",
   "metadata": {},
   "source": [
    "### Fermi Pico Bagels\n",
    "\n",
    "Try playing game and understand the rules : https://communicrossings.com/html/js/pfb.htm"
   ]
  },
  {
   "cell_type": "markdown",
   "metadata": {},
   "source": [
    "### Step 1\n",
    "\n",
    "Ask the user for how many digits should be there in a number to guess. Store it in a variable digits."
   ]
  },
  {
   "cell_type": "code",
   "execution_count": 1,
   "metadata": {},
   "outputs": [
    {
     "name": "stdout",
     "output_type": "stream",
     "text": [
      "Enter the number of digits: 3\n"
     ]
    }
   ],
   "source": [
    "digits = int(input('Enter the number of digits: '))"
   ]
  },
  {
   "cell_type": "markdown",
   "metadata": {},
   "source": [
    "### Step 2\n",
    "\n",
    "In this method, we will obtain random number using built-in random module. So we import sample method from random module."
   ]
  },
  {
   "cell_type": "code",
   "execution_count": 2,
   "metadata": {},
   "outputs": [],
   "source": [
    "from random import sample"
   ]
  },
  {
   "cell_type": "markdown",
   "metadata": {},
   "source": [
    "### Step 3\n",
    "\n",
    "Use sample method, taking digits as one of the arguments. It returns a list called digit_list."
   ]
  },
  {
   "cell_type": "code",
   "execution_count": 3,
   "metadata": {},
   "outputs": [],
   "source": [
    "digit_list = sample('123456789', digits)"
   ]
  },
  {
   "cell_type": "code",
   "execution_count": 4,
   "metadata": {},
   "outputs": [
    {
     "data": {
      "text/plain": [
       "['1', '5', '6']"
      ]
     },
     "execution_count": 4,
     "metadata": {},
     "output_type": "execute_result"
    }
   ],
   "source": [
    "digit_list"
   ]
  },
  {
   "cell_type": "markdown",
   "metadata": {},
   "source": [
    "### Step 4\n",
    "\n",
    "Join all these digits and convert it into single integer using join() method."
   ]
  },
  {
   "cell_type": "code",
   "execution_count": 5,
   "metadata": {},
   "outputs": [],
   "source": [
    "original_number = ''.join(digit_list)"
   ]
  },
  {
   "cell_type": "code",
   "execution_count": 6,
   "metadata": {},
   "outputs": [
    {
     "data": {
      "text/plain": [
       "'156'"
      ]
     },
     "execution_count": 6,
     "metadata": {},
     "output_type": "execute_result"
    }
   ],
   "source": [
    "original_number"
   ]
  },
  {
   "cell_type": "markdown",
   "metadata": {},
   "source": [
    "### Step 5\n",
    "\n",
    "Define guess_number_count variable to count the number of guesses. Initially set it's value 1."
   ]
  },
  {
   "cell_type": "code",
   "execution_count": 7,
   "metadata": {},
   "outputs": [],
   "source": [
    "guess_number_count = 1"
   ]
  },
  {
   "cell_type": "markdown",
   "metadata": {},
   "source": [
    "### Step 6\n",
    "\n",
    "Ask for how many number of guesses player wants to guess the number and store it in variable guesses."
   ]
  },
  {
   "cell_type": "code",
   "execution_count": 8,
   "metadata": {},
   "outputs": [
    {
     "name": "stdout",
     "output_type": "stream",
     "text": [
      "How many guesses you want?:  5\n"
     ]
    }
   ],
   "source": [
    "guesses = int(input('How many guesses you want?:  '))"
   ]
  },
  {
   "cell_type": "markdown",
   "metadata": {},
   "source": [
    "### Step 7\n",
    "\n",
    "Create empty list called output where we will store the output in the form of list.\n",
    "\n",
    "For example: output = [ ' Fermi ', ' Pico ' ,' Pico ' ]"
   ]
  },
  {
   "cell_type": "code",
   "execution_count": 9,
   "metadata": {},
   "outputs": [],
   "source": [
    "output = []"
   ]
  },
  {
   "cell_type": "markdown",
   "metadata": {},
   "source": [
    "### Step 8\n",
    "\n",
    "Import shuffle method from random module and write shuffle(output)."
   ]
  },
  {
   "cell_type": "code",
   "execution_count": 10,
   "metadata": {},
   "outputs": [],
   "source": [
    "from random import shuffle\n",
    "\n",
    "shuffle(output)"
   ]
  },
  {
   "cell_type": "markdown",
   "metadata": {},
   "source": [
    "### Step 9\n",
    "\n",
    "Take a number as user input and save it in a variable guess_number."
   ]
  },
  {
   "cell_type": "code",
   "execution_count": 11,
   "metadata": {},
   "outputs": [
    {
     "name": "stdout",
     "output_type": "stream",
     "text": [
      "Guess the number: 156\n"
     ]
    }
   ],
   "source": [
    "guess_number = input('Guess the number: ')"
   ]
  },
  {
   "cell_type": "markdown",
   "metadata": {},
   "source": [
    "### Step 10\n",
    "\n",
    "Check if number of digits of original_number and guess_number is same, if not then ask user for valid input.(Use len() function)."
   ]
  },
  {
   "cell_type": "code",
   "execution_count": 12,
   "metadata": {},
   "outputs": [],
   "source": [
    "if len(guess_number) != len(original_number):\n",
    "    print(f'Enter {len(original_number)} digit number.')"
   ]
  },
  {
   "cell_type": "markdown",
   "metadata": {},
   "source": [
    "### Step 11\n",
    "\n",
    "Check if the digits are not repeated in a guess_number using set(). Note that datatype set allows unique values only."
   ]
  },
  {
   "cell_type": "code",
   "execution_count": 13,
   "metadata": {},
   "outputs": [],
   "source": [
    "if len(guess_number) != len(set(guess_number)):\n",
    "    print('Duplicate number')"
   ]
  },
  {
   "cell_type": "markdown",
   "metadata": {},
   "source": [
    "### Step 12\n",
    "\n",
    "Check if any digit and it's position in both guess_number and original_number are same then append 'Fermi' to ouput list or if only digit matches and not the position then append 'Pico' to output."
   ]
  },
  {
   "cell_type": "code",
   "execution_count": 14,
   "metadata": {},
   "outputs": [],
   "source": [
    "for i in range(digits):\n",
    "    if guess_number[i] == original_number[i]:\n",
    "        output.append('Fermi')\n",
    "    elif guess_number[i] in original_number:\n",
    "        output.append('Pico')"
   ]
  },
  {
   "cell_type": "markdown",
   "metadata": {},
   "source": [
    "### Step 13\n",
    "\n",
    "Convert the a list output into string with each value separated by space. Define that string as output_string.\n",
    "\n",
    "Use join() method to add space between them."
   ]
  },
  {
   "cell_type": "code",
   "execution_count": 15,
   "metadata": {},
   "outputs": [],
   "source": [
    "output_string = ''.join(output)"
   ]
  },
  {
   "cell_type": "markdown",
   "metadata": {},
   "source": [
    "### Step 14\n",
    "\n",
    "Check if neither any digit matches nor any position then output must be Bagel.This means output list should be empty.\n",
    "\n",
    "Otherwise print output_string."
   ]
  },
  {
   "cell_type": "code",
   "execution_count": 16,
   "metadata": {},
   "outputs": [
    {
     "name": "stdout",
     "output_type": "stream",
     "text": [
      "FermiFermiFermi\n"
     ]
    }
   ],
   "source": [
    "if len(output) == 0:\n",
    "    print('Bagels')\n",
    "else:\n",
    "    print(output_string)"
   ]
  },
  {
   "cell_type": "markdown",
   "metadata": {},
   "source": [
    "### Step 15\n",
    "\n",
    "Check winning condition and print ' You win !! '."
   ]
  },
  {
   "cell_type": "code",
   "execution_count": 17,
   "metadata": {},
   "outputs": [
    {
     "name": "stdout",
     "output_type": "stream",
     "text": [
      "You Won!!\n"
     ]
    }
   ],
   "source": [
    "if (guess_number == original_number):\n",
    "    print('You Won!!')"
   ]
  },
  {
   "cell_type": "markdown",
   "metadata": {},
   "source": [
    "Check losing condition i.e. when player could not guess the number within allowed number of guesses and print the answer."
   ]
  },
  {
   "cell_type": "code",
   "execution_count": 18,
   "metadata": {},
   "outputs": [],
   "source": [
    "if guess_number_count > guesses:\n",
    "    print(f'Your {guesses} guesses are over. You lost. The answer was {original_number}')"
   ]
  },
  {
   "cell_type": "markdown",
   "metadata": {},
   "source": [
    "### Complete game"
   ]
  },
  {
   "cell_type": "code",
   "execution_count": 19,
   "metadata": {},
   "outputs": [
    {
     "name": "stdout",
     "output_type": "stream",
     "text": [
      "Enter the number of digits: 3\n",
      "How many guesses you want?:  5\n",
      "\n",
      "Guess  1\n",
      "Guess the number: 156\n",
      "Bagels\n",
      "\n",
      "Guess  2\n",
      "Guess the number: 234\n",
      "Pico\n",
      "\n",
      "Guess  3\n",
      "Guess the number: 734\n",
      "PicoPico\n",
      "\n",
      "Guess  4\n",
      "Guess the number: 748\n",
      "PicoPicoFermi\n",
      "\n",
      "Guess  5\n",
      "Guess the number: 478\n",
      "FermiFermiFermi\n",
      "You Won!!\n"
     ]
    }
   ],
   "source": [
    "from random import sample, shuffle\n",
    "\n",
    "digits = int(input('Enter the number of digits: '))\n",
    "digit_list = sample('123456789', digits)\n",
    "original_number = ''.join(digit_list)\n",
    "\n",
    "guess_number_count = 1\n",
    "\n",
    "guesses = int(input('How many guesses you want?:  '))\n",
    "\n",
    "while True:\n",
    "    output = []\n",
    "    print('\\nGuess ', guess_number_count)\n",
    "    guess_number = input('Guess the number: ')\n",
    "    \n",
    "    if len(guess_number) != len(original_number):\n",
    "        print(f'Enter {len(original_number)} digit number.')\n",
    "        continue\n",
    "        \n",
    "    if len(guess_number) != len(set(guess_number)):\n",
    "        print('Duplicate number')\n",
    "        continue\n",
    "    \n",
    "    for i in range(digits):\n",
    "        if guess_number[i] == original_number[i]:\n",
    "            output.append('Fermi')\n",
    "        elif guess_number[i] in original_number:\n",
    "            output.append('Pico')\n",
    "            \n",
    "    shuffle(output)\n",
    "    \n",
    "    guess_number_count = guess_number_count + 1\n",
    "    \n",
    "    output_string = ''.join(output)\n",
    "    \n",
    "    if len(output) == 0:\n",
    "        print('Bagels')\n",
    "    else:\n",
    "        print(output_string)\n",
    "    \n",
    "    if (guess_number == original_number):\n",
    "        print('You Won!!')\n",
    "        break\n",
    "        \n",
    "    if guess_number_count > guesses:\n",
    "        print(f'Your {guesses} guesses are over. You lost. The answer was {original_number}')\n",
    "        break"
   ]
  },
  {
   "cell_type": "code",
   "execution_count": null,
   "metadata": {},
   "outputs": [],
   "source": []
  }
 ],
 "metadata": {
  "kernelspec": {
   "display_name": "Python 3",
   "language": "python",
   "name": "python3"
  },
  "language_info": {
   "codemirror_mode": {
    "name": "ipython",
    "version": 3
   },
   "file_extension": ".py",
   "mimetype": "text/x-python",
   "name": "python",
   "nbconvert_exporter": "python",
   "pygments_lexer": "ipython3",
   "version": "3.8.5"
  }
 },
 "nbformat": 4,
 "nbformat_minor": 4
}
