{
 "cells": [
  {
   "cell_type": "markdown",
   "metadata": {},
   "source": [
    "### Fermi Pico Bagel\n",
    "\n",
    "Try playing game and understand the rules : https://communicrossings.com/html/js/pfb.htm"
   ]
  },
  {
   "cell_type": "markdown",
   "metadata": {},
   "source": [
    "### Step 1\n",
    "\n",
    "Store any number in string format(number to be guessed by player) in a variable original_number.\n",
    "\n",
    "For Example: original_number = '123'"
   ]
  },
  {
   "cell_type": "code",
   "execution_count": 1,
   "metadata": {},
   "outputs": [],
   "source": [
    "original_number = '987'"
   ]
  },
  {
   "cell_type": "markdown",
   "metadata": {},
   "source": [
    "### Step 2\n",
    "\n",
    "Take a number as user input and save it in a variable guess_number.(Make sure that the datatype of guess_number is same as of original number i.e- str)"
   ]
  },
  {
   "cell_type": "code",
   "execution_count": 2,
   "metadata": {},
   "outputs": [
    {
     "name": "stdout",
     "output_type": "stream",
     "text": [
      "Enter guess number: 765\n"
     ]
    }
   ],
   "source": [
    "guess_number = input('Enter guess number: ')"
   ]
  },
  {
   "cell_type": "markdown",
   "metadata": {},
   "source": [
    "### Step 3\n",
    "\n",
    "Check if total number of digits in original_number and guess_number is not same(Use len() function) then ask user for valid input.(First use len() to get total digits in original_number and guess_number.)"
   ]
  },
  {
   "cell_type": "code",
   "execution_count": 3,
   "metadata": {},
   "outputs": [],
   "source": [
    "if len(guess_number) != len(original_number):\n",
    "    print(f'Enter {len(original_number)} digit number.')"
   ]
  },
  {
   "cell_type": "markdown",
   "metadata": {},
   "source": [
    "### Step 4\n",
    "\n",
    "Using set(), check if the digits are repeated in a guess_number . Note that datatype set allows unique values only.\n",
    "\n",
    "For ex. if user_inputis 122, then it should print the string 'Duplicate number' as digit 2 is repeated."
   ]
  },
  {
   "cell_type": "code",
   "execution_count": 4,
   "metadata": {},
   "outputs": [],
   "source": [
    "if len(guess_number) != len(set(guess_number)):\n",
    "    print('Duplicate number')"
   ]
  },
  {
   "cell_type": "markdown",
   "metadata": {},
   "source": [
    "### Step 5\n",
    "\n",
    "Check winning condition i.e. if both guess_number and original_number are same, then print 'Fermi' as many number of times as number of digits in a number and print ' You win !! '."
   ]
  },
  {
   "cell_type": "code",
   "execution_count": 5,
   "metadata": {},
   "outputs": [],
   "source": [
    "if (int(guess_number) - int(original_number)) == 0:\n",
    "    print('Fermi ' * len(original_number))\n",
    "    print('\\n You Won!!')"
   ]
  },
  {
   "cell_type": "markdown",
   "metadata": {},
   "source": [
    "### Step 6\n",
    "\n",
    "Create empty list called output where we will store the output in the form of list.\n",
    "\n",
    "For example: output = [ ' Fermi ', ' Pico ' ,' Pico ' ]"
   ]
  },
  {
   "cell_type": "code",
   "execution_count": 6,
   "metadata": {},
   "outputs": [],
   "source": [
    "output = []"
   ]
  },
  {
   "cell_type": "markdown",
   "metadata": {},
   "source": [
    "### Step 7\n",
    "\n",
    "Check if any digit and it's position in both guess_number and original_number are same then append 'Fermi' to output list or if only digit matches and not the position then append 'Pico' to output."
   ]
  },
  {
   "cell_type": "code",
   "execution_count": 7,
   "metadata": {},
   "outputs": [],
   "source": [
    "for i in range(len(original_number)):\n",
    "    for j in range(len(guess_number)):\n",
    "        if original_number[i] == guess_number[j]:\n",
    "            if i == j:\n",
    "                output.append('Fermi')\n",
    "            else:\n",
    "                output.append('Pico')"
   ]
  },
  {
   "cell_type": "markdown",
   "metadata": {},
   "source": [
    "### Step 8\n",
    "\n",
    "Define a variable called output_string which has all values from a list output with each value separated by space. (Use 'for' loop to get all the values from a list output.)"
   ]
  },
  {
   "cell_type": "code",
   "execution_count": 8,
   "metadata": {},
   "outputs": [
    {
     "name": "stdout",
     "output_type": "stream",
     "text": [
      " Pico\n"
     ]
    }
   ],
   "source": [
    "output_string = ''\n",
    "for item in output:\n",
    "    output_string = output_string + ' ' + item\n",
    "print(output_string)"
   ]
  },
  {
   "cell_type": "code",
   "execution_count": 9,
   "metadata": {},
   "outputs": [],
   "source": [
    "# output_string = ' '.join(output)\n",
    "# output_string"
   ]
  },
  {
   "cell_type": "markdown",
   "metadata": {},
   "source": [
    "### Step 9\n",
    "\n",
    "Check if neither any digit nor any position matches i.e. if length of output list is zero then print Bagel.\n",
    "\n",
    "Otherwise print output_string."
   ]
  },
  {
   "cell_type": "code",
   "execution_count": 10,
   "metadata": {},
   "outputs": [
    {
     "name": "stdout",
     "output_type": "stream",
     "text": [
      " Pico\n"
     ]
    }
   ],
   "source": [
    "if len(output) == 0:\n",
    "    print('Bagels')\n",
    "else:\n",
    "    print(output_string)"
   ]
  },
  {
   "cell_type": "markdown",
   "metadata": {},
   "source": [
    "### Step 10\n",
    "\n",
    "### Complete game\n",
    "\n",
    "Here use continue and break statements at appropriate places."
   ]
  },
  {
   "cell_type": "code",
   "execution_count": 11,
   "metadata": {},
   "outputs": [
    {
     "name": "stdout",
     "output_type": "stream",
     "text": [
      "Enter original number: 209\n",
      "Guess the number: 123\n",
      "  Pico \n",
      "Guess the number: 234\n",
      "  Fermi \n",
      "Guess the number: 259\n",
      "  Fermi   Fermi \n",
      "Guess the number: 209\n",
      "Fermi Fermi Fermi \n",
      "\n",
      " You Won!!\n"
     ]
    }
   ],
   "source": [
    "original_number = input('Enter original number: ')\n",
    "\n",
    "while True:\n",
    "    output = []\n",
    "    guess_number = input('Guess the number: ')\n",
    "    \n",
    "    if (len(guess_number) != len(original_number)):\n",
    "        print(f'Enter {len(original_number)} digit number.')\n",
    "        continue\n",
    "    \n",
    "    if (len(guess_number) != len(set(guess_number))):\n",
    "        print('Duplicate number!')\n",
    "        continue\n",
    "        \n",
    "    if (int(guess_number) - int(original_number)) == 0:\n",
    "        print('Fermi '*len(original_number))\n",
    "        print('\\n You Won!!')\n",
    "        break\n",
    "        \n",
    "    for i in range(len(original_number)):\n",
    "        for j in range(len(guess_number)):\n",
    "            if original_number[i] == guess_number[j]:\n",
    "                if i == j:\n",
    "                    output.append(' Fermi ')\n",
    "                else:\n",
    "                    output.append(' Pico ')\n",
    "                    \n",
    "    output_string = ''\n",
    "    for item in output:\n",
    "        output_string = output_string + ' ' + item\n",
    "        \n",
    "    if len(output) == 0:\n",
    "        print(' Bagels ')\n",
    "    else:\n",
    "        print(output_string)"
   ]
  },
  {
   "cell_type": "code",
   "execution_count": null,
   "metadata": {},
   "outputs": [],
   "source": []
  },
  {
   "cell_type": "code",
   "execution_count": null,
   "metadata": {},
   "outputs": [],
   "source": []
  }
 ],
 "metadata": {
  "kernelspec": {
   "display_name": "Python 3",
   "language": "python",
   "name": "python3"
  },
  "language_info": {
   "codemirror_mode": {
    "name": "ipython",
    "version": 3
   },
   "file_extension": ".py",
   "mimetype": "text/x-python",
   "name": "python",
   "nbconvert_exporter": "python",
   "pygments_lexer": "ipython3",
   "version": "3.8.5"
  }
 },
 "nbformat": 4,
 "nbformat_minor": 4
}
