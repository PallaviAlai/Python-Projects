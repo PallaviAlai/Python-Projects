{
 "cells": [
  {
   "cell_type": "markdown",
   "metadata": {},
   "source": [
    "## Fermi, Pico, Bagels! \n",
    "\n",
    "Create a number guessing game Fermi, Pico, Bagels! by strictly using integer operations!\n",
    "\n",
    "Play Game!:  https://communicrossings.com/html/js/pfb.htm"
   ]
  },
  {
   "cell_type": "markdown",
   "metadata": {},
   "source": [
    "### Notebook Content :\n",
    "**Lesson 1 :**\n",
    "\n",
    "Setting up the initial environment of the game.\n",
    "\n",
    "**Lesson 2 :**\n",
    "\n",
    "Check for repetitive digits in the result_number.\n",
    "\n",
    "**Lesson 3 :**\n",
    "\n",
    "Conditions for guess result to be Fermi, Pico & Bagels!.\n",
    "\n",
    "**Lesson 4 :**\n",
    "\n",
    "Combine the complete codeflow in an infinte loop!"
   ]
  },
  {
   "cell_type": "markdown",
   "metadata": {},
   "source": [
    "### Rules :\n",
    "\n",
    "**Repetitive digits** are not allowed.\n",
    "\n",
    "**Fermi, Pico & Bagels** represent the guess results.\n",
    "\n",
    "**Fermi** : A correct digit placed correctly\n",
    "\n",
    "**Pico** : A correct digit placed incorrectly\n",
    "\n",
    "**Bagels** : No digits correct\n",
    "\n",
    "**Winning Condition** : result_number = guess number : **Fermi , Fermi , Fermi!!**\n",
    "\n",
    "**Losing Condition** : If maximum number of guesses reached and could not guess the result number!"
   ]
  },
  {
   "cell_type": "markdown",
   "metadata": {},
   "source": [
    "### Lesson 1\n",
    " \n",
    "#### Setting up the initial environment of the game\n",
    "\n",
    "Define variables that help us setup the initial environment of the game."
   ]
  },
  {
   "cell_type": "markdown",
   "metadata": {},
   "source": [
    "### Step 1\n",
    "\n",
    "Define digits variable by taking input from user."
   ]
  },
  {
   "cell_type": "code",
   "execution_count": 1,
   "metadata": {},
   "outputs": [
    {
     "name": "stdout",
     "output_type": "stream",
     "text": [
      "Enter number of digits: 3\n"
     ]
    }
   ],
   "source": [
    "digits = int(input('Enter number of digits: '))"
   ]
  },
  {
   "cell_type": "markdown",
   "metadata": {},
   "source": [
    "### Step 2\n",
    "\n",
    "Define guess_number_count = 0.\n",
    "\n",
    "Define guess_number = 0 variable.\n",
    "\n",
    "Define guess_count variable by taking input from user that decides the amount of guesses allowed."
   ]
  },
  {
   "cell_type": "code",
   "execution_count": 2,
   "metadata": {},
   "outputs": [
    {
     "name": "stdout",
     "output_type": "stream",
     "text": [
      "Enter the maximum number of guesses allowed: 5\n"
     ]
    }
   ],
   "source": [
    "guess_number_count = 0\n",
    "\n",
    "guess_number = 0\n",
    "\n",
    "guess_count = int(input('Enter the maximum number of guesses allowed: '))"
   ]
  },
  {
   "cell_type": "markdown",
   "metadata": {},
   "source": [
    "### Step 3\n",
    "\n",
    "Define result_number variable that is created by using randint from random module.\n",
    "\n",
    "randint method should contain 2 mathematical expressions that make use of the digit variable to create result_number.\n",
    "\n",
    "**Hint** : Execute random.randint?? for understanding its syntax.\n",
    "\n",
    "**Hint** : result_number = random.randint( expression_1, expression_2)\n",
    "\n",
    "**Hint** : Expressions in random.randint have to something with 10 and digits variable.\n",
    "\n",
    "**Hint** : Table for finding logic for the expressions to be coded in result_number = random.randint( expression_1, expression_2)\n",
    "\n",
    "**Digit**\t**1st Number of Digit** \t**Last Number of Digit**\n",
    "\n",
    "1\t1\t9\n",
    "\n",
    "2\t10\t99\n",
    "\n",
    "3\t100\t999\n",
    "\n",
    "4\t1000\t9999\n",
    "\n",
    "5\t10000\t99999"
   ]
  },
  {
   "cell_type": "code",
   "execution_count": 3,
   "metadata": {},
   "outputs": [],
   "source": [
    "import random\n",
    "result_number = random.randint(10**(digits-1), 10**(digits-1))"
   ]
  },
  {
   "cell_type": "markdown",
   "metadata": {},
   "source": [
    "### Lesson 2\n",
    "\n",
    "#### Check for repetitive digits in the `result_number`\n",
    "\n",
    "Create a function that displays the number of repeitive digits as well as returns True if repetitive digits are present in the result_number else False."
   ]
  },
  {
   "cell_type": "markdown",
   "metadata": {},
   "source": [
    "### Step 4\n",
    "\n",
    "Create a list of length 10 with all 0's present inside it. Access the individual elements of the result_number and increment the 0 by 1 inside the list on the index position of the individual element.\n",
    "\n",
    "**Hint:** Use different mathematical operations available to access individual digits. Check the table present at the start of Expressions chapter of Basic Python course.\n",
    "\n",
    "**Explanation :**\n",
    "\n",
    "list1 = [0, 0, 0, 0, 0, 0, 0, 0, 0, 0]\n",
    "\n",
    "index =  0, 1, 2, 3, 4, 5, 6, 7, 8, 9 \n",
    "\n",
    "result_number = 111\n",
    "\n",
    "list1 = [0, 3, 0, 0, 0, 0, 0, 0, 0, 0]\n",
    "\n",
    "Here result_number has 3 1's, hence we will increment the 0 present in index position 1 by 3 to find the frequency of the digits."
   ]
  },
  {
   "cell_type": "code",
   "execution_count": 4,
   "metadata": {},
   "outputs": [],
   "source": [
    "count = [0] * 10\n",
    "for i in range(digits):\n",
    "    n = result_number % 10\n",
    "    count[n] += 1\n",
    "    result_number = result_number // 10"
   ]
  },
  {
   "cell_type": "markdown",
   "metadata": {},
   "source": [
    "### Step 5\n",
    "\n",
    "Create a variable res and iterate a loop over the list created in **Step 4** to find the count of the number of repetitive digits in result_number. If the count of any digit is greater than 1, increment res by 1 and display a message : **Number of Repetitve Digits** :."
   ]
  },
  {
   "cell_type": "code",
   "execution_count": 5,
   "metadata": {},
   "outputs": [
    {
     "name": "stdout",
     "output_type": "stream",
     "text": [
      "Number of Repetitve Digits :  2\n"
     ]
    }
   ],
   "source": [
    "res = 0\n",
    "for i in range(10):\n",
    "        if count[i] > 1:\n",
    "            res += 1\n",
    "            print('Number of Repetitve Digits : ',count[i])"
   ]
  },
  {
   "cell_type": "markdown",
   "metadata": {},
   "source": [
    "### Step 6\n",
    "\n",
    "Create an if - else clause that checks the value of res. If it is greater than 0, display a message : Repetitive Digits are present in the result number! else display a message : No Repetitive Digits found in the result number!."
   ]
  },
  {
   "cell_type": "code",
   "execution_count": 6,
   "metadata": {},
   "outputs": [
    {
     "name": "stdout",
     "output_type": "stream",
     "text": [
      "Repetitive Digits are present in the result number!\n"
     ]
    }
   ],
   "source": [
    "if res > 0:\n",
    "    print('Repetitive Digits are present in the result number!')\n",
    "else:\n",
    "    print('No Repetitive Digits found in the result number!')"
   ]
  },
  {
   "cell_type": "markdown",
   "metadata": {},
   "source": [
    "### Step 7\n",
    "\n",
    "Create a function with 2 arguements : digits and result_number that combines the code snippets of Step 4, Step 5 and Step 6 that returns True if repetitive digits are present in the result_number else returns False."
   ]
  },
  {
   "cell_type": "code",
   "execution_count": 7,
   "metadata": {},
   "outputs": [],
   "source": [
    "def repetitive_digits(digits,result_number):\n",
    "    count = [0] * 10\n",
    "    res = 0\n",
    "    for i in range(digits):\n",
    "        n = result_number % 10\n",
    "        count[n] += 1\n",
    "        result_number = result_number // 10\n",
    "    for i in range(10):\n",
    "        if count[i] > 1:\n",
    "            res += 1\n",
    "            print('Number of Repetitve Digits : ',count[i]) \n",
    "    if res > 0:\n",
    "        print('Repetitive Digits are present in the result number!')\n",
    "        return(True)\n",
    "    else:\n",
    "        print('No Repetitive Digits found in the result number!')\n",
    "        return(False)"
   ]
  },
  {
   "cell_type": "markdown",
   "metadata": {},
   "source": [
    "### Lesson 3\n",
    "\n",
    "#### Conditions for guess result to be Fermi, Pico & Bagels!\n",
    "\n",
    "Create code logic for Fermi, Pico and Bagels based on the individual digits of result_number and guess_number.\n",
    "\n",
    "### Step 8\n",
    "\n",
    "Create 2 lists of length digits with all 0's present inside it, overwrite the guess_number variable by taking input from the user, 2 new variables that are assigned the values of result_number and guess_number and 3 counter variables fermi = 0, pico = 0 and bagels = 0."
   ]
  },
  {
   "cell_type": "code",
   "execution_count": 8,
   "metadata": {},
   "outputs": [
    {
     "name": "stdout",
     "output_type": "stream",
     "text": [
      "Enter Guess Number : 123\n"
     ]
    }
   ],
   "source": [
    "guess_number = int(input('Enter Guess Number : '))\n",
    "\n",
    "c1 = [0] * digits;c2 = [0] * digits\n",
    "n1 = result_number;n2 = guess_number\n",
    "fermi = 0;pico = 0;bagels = 0"
   ]
  },
  {
   "cell_type": "markdown",
   "metadata": {},
   "source": [
    "### Step 9\n",
    "\n",
    "Create code logic that accesses the individual elements of the result_number and guess_number, stores them inside the lists created in Step 8 in the same order when we read from left to right.\n",
    "\n",
    "**Note** : Check Step 4 for accessing individual elements."
   ]
  },
  {
   "cell_type": "code",
   "execution_count": 9,
   "metadata": {},
   "outputs": [],
   "source": [
    "for i in range(digits):\n",
    "    c1[digits - (i + 1)] = n1 % 10\n",
    "    n1 = n1 // 10\n",
    "\n",
    "for i in range(digits):\n",
    "    c2[digits - (i + 1)] = n2 % 10\n",
    "    n2 = n2 // 10"
   ]
  },
  {
   "cell_type": "markdown",
   "metadata": {},
   "source": [
    "### Step 10\n",
    "\n",
    "Create a code logic using loop and if statement to check if the individual elements of result_number from it's list are present in the list of guess_number. If they are not present then increment the variable bagels variable by 1 from Step 8."
   ]
  },
  {
   "cell_type": "code",
   "execution_count": 10,
   "metadata": {},
   "outputs": [],
   "source": [
    "for i in c1:\n",
    "    if i not in c2:\n",
    "        bagels += 1"
   ]
  },
  {
   "cell_type": "markdown",
   "metadata": {},
   "source": [
    "### Step 11\n",
    "\n",
    "Create a code logic using if statement and nested loops to check for Fermi and Pico conditions. It should only check if the bagels variable is less than digits. If the bagels variable is less than 3 and if it satisfies the Fermi condition then increment the fermi variable by 1 else if it satisfies the Pico condition then increment the pico variable by 1."
   ]
  },
  {
   "cell_type": "code",
   "execution_count": 11,
   "metadata": {},
   "outputs": [],
   "source": [
    "if bagels < digits:\n",
    "    for i in range(digits):\n",
    "        for j in range(digits):\n",
    "            if (c1[i] == c2[j]) and (i == j):\n",
    "                fermi += 1\n",
    "            elif (c1[i] == c2[j]) and (i != j):\n",
    "                pico += 1"
   ]
  },
  {
   "cell_type": "markdown",
   "metadata": {},
   "source": [
    "### Step 12\n",
    "\n",
    "Create an if - else clause that displays the output of guess results as Fermi or Pico or Bagels depending on the values of the variables fermi, pico and bagels.\n",
    "\n",
    "**Hint** : Use String Replication to display the output."
   ]
  },
  {
   "cell_type": "code",
   "execution_count": 12,
   "metadata": {},
   "outputs": [
    {
     "name": "stdout",
     "output_type": "stream",
     "text": [
      "Guess Number : 123 \tResult :  Bagels\n"
     ]
    }
   ],
   "source": [
    "if bagels == digits:\n",
    "    print('Guess Number :',guess_number,'\\tResult : ','Bagels')\n",
    "elif fermi == digits:\n",
    "    print('Guess Number :',guess_number,'\\tResult : ','Fermi '*fermi,'Pico '*pico)\n",
    "else:\n",
    "    print('Guess Number :',guess_number,'\\tResult : ','Fermi '*fermi,'Pico '*pico)"
   ]
  },
  {
   "cell_type": "markdown",
   "metadata": {},
   "source": [
    "### Lesson 4\n",
    "\n",
    "#### Combine the complete codeflow in an infinte loop!\n",
    "\n",
    "Combine the code snippets created in all the steps using an infinite loop and manage loops throughout. Increment guess_number_count variable after each guess, display the total number of guesses taken irrespective of the game is won or lost and display GAME OVER at the end.\n",
    "\n",
    "The game should stop for following conditions :\n",
    "\n",
    "User is able to guess the result_number within the limits of guess_count. Display You Win! as well.\n",
    "\n",
    "User is not able to guess the result_number within the limits of guess_count. Display You Lose! as well.\n",
    "\n",
    "**Note** : Define the repetitive_digits function outside the loop.\n",
    "\n",
    "**Hint** : Use multiple nested loops and add break at necessary positions!"
   ]
  },
  {
   "cell_type": "code",
   "execution_count": 13,
   "metadata": {},
   "outputs": [
    {
     "name": "stdout",
     "output_type": "stream",
     "text": [
      "Enter the number of digits : 3\n",
      "Enter the maximum number of guesses allowed : 10\n",
      "No Repetitive Digits found in the result number!\n",
      "Enter Guess Number : 234\n",
      "Guess Number : 234 \tResult :   Pico Pico \n",
      "Enter Guess Number : 123\n",
      "Guess Number : 123 \tResult :   Pico \n",
      "Enter Guess Number : 345\n",
      "Guess Number : 345 \tResult :   Pico \n",
      "Enter Guess Number : 534\n",
      "Guess Number : 534 \tResult :   Pico \n",
      "Enter Guess Number : 743\n",
      "Guess Number : 743 \tResult :   Pico Pico \n",
      "Enter Guess Number : 765\n",
      "Guess Number : 765 \tResult :   Pico \n",
      "Enter Guess Number : 543\n",
      "Guess Number : 543 \tResult :   Pico \n",
      "Enter Guess Number : 987\n",
      "Guess Number : 987 \tResult :   Pico \n",
      "Enter Guess Number : 736\n",
      "Guess Number : 736 \tResult :   Pico \n",
      "Enter Guess Number : 876\n",
      "Guess Number : 876 \tResult :  Fermi  \n",
      "Maximum Number of Guesses reached!\n",
      "Could not guess the Result Number!\n",
      "Result Number :  472\n",
      "You Lose!\n",
      "GAME OVER!\n"
     ]
    }
   ],
   "source": [
    "import random\n",
    "def repetitive_digits(digits,result_number):\n",
    "    count = [0] * 10\n",
    "    res = 0\n",
    "    for i in range(digits):\n",
    "        n = result_number % 10\n",
    "        count[n] += 1\n",
    "        result_number = result_number // 10\n",
    "    for i in range(10):\n",
    "        if count[i] > 1:\n",
    "            res += 1\n",
    "            print('Number of Repetitve Digits : ',count[i]) \n",
    "    if res > 0:\n",
    "        print('Repetitive Digits are present in the result number!')\n",
    "        return(True)\n",
    "    else:\n",
    "        print('No Repetitive Digits found in the result number!')\n",
    "        return(False)\n",
    "    \n",
    "while True:\n",
    "    digits = int(input('Enter the number of digits : '))\n",
    "    guess_number_count = 0\n",
    "    guess_number = 0\n",
    "    guess_count = int(input('Enter the maximum number of guesses allowed : '))\n",
    "    result_number = random.randint(10**(digits - 1) ,10**(digits) - 1)\n",
    "    \n",
    "    while(True):\n",
    "        if repetitive_digits(digits,result_number) == True:\n",
    "            break\n",
    "        else:\n",
    "            while guess_number_count < guess_count:\n",
    "                \n",
    "                guess_number = int(input('Enter Guess Number : '))\n",
    "                guess_number_count += 1\n",
    "                c1 = [0] * digits;c2 = [0] * digits\n",
    "                n1 = result_number;n2 = guess_number\n",
    "                fermi = 0;pico = 0;bagels = 0\n",
    "                \n",
    "                for i in range(digits):\n",
    "                    c1[digits - (i + 1)] = n1 % 10\n",
    "                    n1 = n1 // 10\n",
    "\n",
    "                for i in range(digits):\n",
    "                    c2[digits - (i + 1)] = n2 % 10\n",
    "                    n2 = n2 // 10\n",
    "                    \n",
    "                for i in c1:\n",
    "                    if i not in c2:\n",
    "                        bagels += 1\n",
    "                        \n",
    "                if bagels < digits:\n",
    "                    for i in range(digits):\n",
    "                        for j in range(digits):\n",
    "                            if (c1[i] == c2[j]) and (i == j):\n",
    "                                fermi += 1\n",
    "                            elif (c1[i] == c2[j]) and (i != j):\n",
    "                                pico += 1\n",
    "                                \n",
    "                if bagels == digits:\n",
    "                    print('Guess Number :',guess_number,'\\tResult : ','Bagels')\n",
    "                elif fermi == digits:\n",
    "                    print('Guess Number :',guess_number,'\\tResult : ','Fermi '*fermi,'Pico '*pico)\n",
    "                    break\n",
    "                else:\n",
    "                    print('Guess Number :',guess_number,'\\tResult : ','Fermi '*fermi,'Pico '*pico)\n",
    "                    \n",
    "        if fermi == digits:\n",
    "            break\n",
    "        else:\n",
    "            print('Maximum Number of Guesses reached!')\n",
    "            break\n",
    "            \n",
    "    if fermi == digits:\n",
    "        print('Number of Guess Count Taken : ',guess_number_count)\n",
    "        print('Result Number : Guess Number : ',guess_number)\n",
    "        print('You Win!')\n",
    "        break\n",
    "    else:\n",
    "        print('Could not guess the Result Number!')\n",
    "        print('Result Number : ',result_number)\n",
    "        print('You Lose!')\n",
    "        break\n",
    "\n",
    "print('GAME OVER!')"
   ]
  },
  {
   "cell_type": "code",
   "execution_count": null,
   "metadata": {},
   "outputs": [],
   "source": []
  }
 ],
 "metadata": {
  "kernelspec": {
   "display_name": "Python 3",
   "language": "python",
   "name": "python3"
  },
  "language_info": {
   "codemirror_mode": {
    "name": "ipython",
    "version": 3
   },
   "file_extension": ".py",
   "mimetype": "text/x-python",
   "name": "python",
   "nbconvert_exporter": "python",
   "pygments_lexer": "ipython3",
   "version": "3.8.5"
  }
 },
 "nbformat": 4,
 "nbformat_minor": 4
}
