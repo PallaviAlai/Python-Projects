{
 "cells": [
  {
   "cell_type": "markdown",
   "metadata": {},
   "source": [
    "## OOP Project"
   ]
  },
  {
   "cell_type": "markdown",
   "metadata": {},
   "source": [
    "A Bike Rental System\n",
    "\n",
    "A full fledged bike rental system implemented in Python using object oriented programming.\n",
    "\n",
    "Customers can see available bikes on the shop. Rent bikes on daily basis Rs.100 per day. Rent bikes on weekly basis Rs.500 per week. Family Rental, a promotion that can include from 3 to 5 Rentals (of any type) with a discount of 30% of the total price.\n",
    "\n",
    "The bike rental shop can issue a bill when customer decides to return the bike, display available inventory ,take requests on daily and weekly basis by cross verifying stock.\n",
    "\n",
    "For simplicity we assume that Any customer requests rentals of only one type i.e daily or weekly and is free to choose the number of bikes he/she wants. Requested bikes should be less than available stock."
   ]
  },
  {
   "cell_type": "markdown",
   "metadata": {},
   "source": [
    "### Step 1\n",
    "\n",
    "Create a parent class BikeRental. Define stock as class attribute and assign value 100 to it.\n",
    "\n",
    "This class should not take any other attribute and when the object is created, it should display the message \"Welcome to rental bike shop.\"\n",
    "\n",
    "Define a method displaystock inside this class and when this method is called, it should display the total number of stock available."
   ]
  },
  {
   "cell_type": "code",
   "execution_count": 1,
   "metadata": {},
   "outputs": [],
   "source": [
    "# Parent class\n",
    "\n",
    "class BikeRental():\n",
    "    stock = 100\n",
    "    \n",
    "    def __init__(self):\n",
    "        print('Welcome to the bike rental shop')\n",
    "        \n",
    "    def displaystock(self):\n",
    "        print(\"We have currently \" + str(BikeRental.stock) + \" bikes available to rent.\")"
   ]
  },
  {
   "cell_type": "markdown",
   "metadata": {},
   "source": [
    "Create an object bike_shop of above class."
   ]
  },
  {
   "cell_type": "code",
   "execution_count": 2,
   "metadata": {},
   "outputs": [
    {
     "name": "stdout",
     "output_type": "stream",
     "text": [
      "Welcome to the bike rental shop\n"
     ]
    }
   ],
   "source": [
    "bike_shop = BikeRental()"
   ]
  },
  {
   "cell_type": "markdown",
   "metadata": {},
   "source": [
    "Check if above created object can access the class attribute stock."
   ]
  },
  {
   "cell_type": "code",
   "execution_count": 3,
   "metadata": {},
   "outputs": [
    {
     "data": {
      "text/plain": [
       "100"
      ]
     },
     "execution_count": 3,
     "metadata": {},
     "output_type": "execute_result"
    }
   ],
   "source": [
    "bike_shop.stock"
   ]
  },
  {
   "cell_type": "markdown",
   "metadata": {},
   "source": [
    "Call the method displaystock using above created object bike_shop."
   ]
  },
  {
   "cell_type": "code",
   "execution_count": 4,
   "metadata": {},
   "outputs": [
    {
     "name": "stdout",
     "output_type": "stream",
     "text": [
      "We have currently 100 bikes available to rent.\n"
     ]
    }
   ],
   "source": [
    "bike_shop.displaystock()"
   ]
  },
  {
   "cell_type": "markdown",
   "metadata": {},
   "source": [
    "### Step 2\n",
    "\n",
    "Create a derived class Customer to inherit the methods from BikeRental class. Define bill as class attributeand set it's initial value as zero.\n",
    "\n",
    "This class has number_of_bikes, rentalBasis (daily or weekly) and number_of_days_or_weeks as attributes."
   ]
  },
  {
   "cell_type": "code",
   "execution_count": 5,
   "metadata": {},
   "outputs": [],
   "source": [
    "# Derived class\n",
    "class Customer(BikeRental):\n",
    "    bill = 0\n",
    "    \n",
    "    def __init__(self, number_of_bikes, rental_basis, number_of_days_or_weeks):\n",
    "        self.rental_basis = rental_basis\n",
    "        self.number_of_bikes = number_of_bikes\n",
    "        self.number_of_days_or_weeks = number_of_days_or_weeks"
   ]
  },
  {
   "cell_type": "markdown",
   "metadata": {},
   "source": [
    "Define a function rentBike, it should have following conditions:\n",
    "\n",
    "if number_of_bikes is less than or equal to zero, it should display the message \"Number of bikes should be positive!\".\n",
    "\n",
    "if number_of_bikes is greater than the stock, it should display the number_of_bikes available to rent.\n",
    "\n",
    "Otherwise display the total number_of_bikes rented by the customer. Do not forget to update the value of stock i.e. subtract the number_of_bikes rented from stock and display the updated stock."
   ]
  },
  {
   "cell_type": "code",
   "execution_count": 6,
   "metadata": {},
   "outputs": [],
   "source": [
    "def rentBike(self):\n",
    "    if self.number_of_bikes <= 0:\n",
    "        print('Number of bikes should be positive!')\n",
    "    elif self.number_of_bikes > BikeRental.stock:\n",
    "        print('Sorry! We have currently ' + str(BikeRental.stock) + ' bikes available to rent.')\n",
    "    else:\n",
    "        print('You have rented ' + str(self.number_of_bikes) + ' bike(s).')\n",
    "        \n",
    "        print('We hope that you enjoy our service.')\n",
    "        \n",
    "        BikeRental.stock -= self.number_of_bikes\n",
    "        \n",
    "        print('Now we have ' + str(BikeRental.stock) + ' bikes in our stock.')"
   ]
  },
  {
   "cell_type": "markdown",
   "metadata": {},
   "source": [
    "Define a function returnBike to return the total bill of customer.\n",
    "\n",
    "Check if rentalBasis is ' daily ' or ' weekly ' and accordingly calculate the bill. Rent on ' daily ' basis is Rs. 100 per bike and for ' weekly ' basis it is Rs. 500 per bike.\n",
    "\n",
    "If number_of_bikes rented by customer is between 3 to 5 (both values inclusive), 30% discount is offered on total bill. So it should display the message \"You are eligible for Family rental promotion of 30% discount\"."
   ]
  },
  {
   "cell_type": "code",
   "execution_count": 7,
   "metadata": {},
   "outputs": [],
   "source": [
    "def returnBike(self):\n",
    "    if self.number_of_bikes <= 0:\n",
    "        print('Number of bikes should be positive!')\n",
    "    elif self.number_of_bikes > BikeRental.stock:\n",
    "        print('Sorry! We have currently ' + str(BikeRental.stock) + ' bikes available to rent.')\n",
    "    else:\n",
    "        if self.rental_basis =='day':\n",
    "            bill = self.number_of_days_or_weeks * 100 * self.number_of_bikes\n",
    "        elif self.rental_basis == 'week':\n",
    "            bill = self.number_of_days_or_weeks * 500 * self.number_of_bikes\n",
    "            \n",
    "        if (3 <= self.number_of_bikes <= 5):\n",
    "            print('You are eligible for family rental promotion of 30% discount')\n",
    "            bill = bill * 0.7\n",
    "            print('Thanks for returning your bike. Hope you enjoyed our service!')\n",
    "            \n",
    "        return 'That would be ' + str(bill) + ' bill.'"
   ]
  },
  {
   "cell_type": "markdown",
   "metadata": {},
   "source": [
    "### Step 3\n",
    "\n",
    "Write complete Customer class using above defined functions returnBike and rentBike inside it as methods."
   ]
  },
  {
   "cell_type": "code",
   "execution_count": 8,
   "metadata": {},
   "outputs": [],
   "source": [
    "# derived class\n",
    "\n",
    "class Customer(BikeRental):\n",
    "    bill = 0\n",
    "    \n",
    "    def __init__(self, number_of_bikes, rental_basis, number_of_days_or_weeks):\n",
    "        self.rental_basis = rental_basis\n",
    "        self.number_of_bikes = number_of_bikes\n",
    "        self.number_of_days_or_weeks = number_of_days_or_weeks\n",
    "        \n",
    "    def rentBike(self):\n",
    "        if self.number_of_bikes <= 0:\n",
    "            print('Number of bikes should be positive!')\n",
    "        elif self.number_of_bikes > BikeRental.stock:\n",
    "            print('Sorry! We have currently ' + str(BikeRental.stock) + ' bikes available to rent.')\n",
    "        else:\n",
    "            print('You have rented ' + str(self.number_of_bikes) + ' bike(s).')\n",
    "\n",
    "            print('We hope that you enjoy our service.')\n",
    "\n",
    "            BikeRental.stock -= self.number_of_bikes\n",
    "\n",
    "            print('Now we have ' + str(BikeRental.stock) + ' bikes in our stock.')\n",
    "            \n",
    "    def returnBike(self):\n",
    "        if self.number_of_bikes <= 0:\n",
    "            print('Number of bikes should be positive!')\n",
    "        elif self.number_of_bikes > BikeRental.stock:\n",
    "            print('Sorry! We have currently ' + str(BikeRental.stock) + ' bikes available to rent.')\n",
    "        else:\n",
    "            if self.rental_basis =='day':\n",
    "                bill = self.number_of_days_or_weeks * 100 * self.number_of_bikes\n",
    "            elif self.rental_basis == 'week':\n",
    "                bill = self.number_of_days_or_weeks * 500 * self.number_of_bikes\n",
    "\n",
    "            if (3 <= self.number_of_bikes <= 5):\n",
    "                print('You are eligible for family rental promotion of 30% discount')\n",
    "                bill = bill * 0.7\n",
    "                print('Thanks for returning your bike. Hope you enjoyed our service!')\n",
    "\n",
    "            return 'That would be ' + str(bill) + ' bill.'"
   ]
  },
  {
   "cell_type": "markdown",
   "metadata": {},
   "source": [
    "### Step 4\n",
    "\n",
    "Check your Bike Rental System for test-case objects given below :\n",
    "\n",
    "For first four customers - check all the three attribute values and call rentBike and returnBike methods.\n",
    "\n",
    "customer_1 = Customer(2,'day',5)\n",
    "\n",
    "customer_2 = Customer(1,'week',3)\n",
    "\n",
    "customer_3 = Customer(4,'day',3) - Is family discount applicable here ?\n",
    "\n",
    "customer_4 = Customer(3,'week',3) - Is family discount applicable here ?\n",
    "\n",
    "Call rentBike and displaystock methods for test-case objects given below :\n",
    "\n",
    "customer_5 = Customer(120,'week',3)\n",
    "\n",
    "customer_6 = Customer(0,'week',3)\n",
    "\n",
    "customer_7 = Customer(-5,'week',3)\n",
    "\n",
    "customer_8 = Customer(1,'day',3)"
   ]
  },
  {
   "cell_type": "code",
   "execution_count": 9,
   "metadata": {},
   "outputs": [],
   "source": [
    "# customer 1\n",
    "customer_1 = Customer(2, 'day', 5)"
   ]
  },
  {
   "cell_type": "code",
   "execution_count": 10,
   "metadata": {},
   "outputs": [
    {
     "data": {
      "text/plain": [
       "2"
      ]
     },
     "execution_count": 10,
     "metadata": {},
     "output_type": "execute_result"
    }
   ],
   "source": [
    "customer_1.number_of_bikes"
   ]
  },
  {
   "cell_type": "code",
   "execution_count": 11,
   "metadata": {},
   "outputs": [
    {
     "data": {
      "text/plain": [
       "'day'"
      ]
     },
     "execution_count": 11,
     "metadata": {},
     "output_type": "execute_result"
    }
   ],
   "source": [
    "customer_1.rental_basis"
   ]
  },
  {
   "cell_type": "code",
   "execution_count": 12,
   "metadata": {},
   "outputs": [
    {
     "data": {
      "text/plain": [
       "5"
      ]
     },
     "execution_count": 12,
     "metadata": {},
     "output_type": "execute_result"
    }
   ],
   "source": [
    "customer_1.number_of_days_or_weeks"
   ]
  },
  {
   "cell_type": "code",
   "execution_count": 13,
   "metadata": {},
   "outputs": [
    {
     "name": "stdout",
     "output_type": "stream",
     "text": [
      "You have rented 2 bike(s).\n",
      "We hope that you enjoy our service.\n",
      "Now we have 98 bikes in our stock.\n"
     ]
    }
   ],
   "source": [
    "customer_1.rentBike()"
   ]
  },
  {
   "cell_type": "code",
   "execution_count": 14,
   "metadata": {},
   "outputs": [
    {
     "data": {
      "text/plain": [
       "'That would be 1000 bill.'"
      ]
     },
     "execution_count": 14,
     "metadata": {},
     "output_type": "execute_result"
    }
   ],
   "source": [
    "customer_1.returnBike()"
   ]
  },
  {
   "cell_type": "code",
   "execution_count": 15,
   "metadata": {},
   "outputs": [],
   "source": [
    "# customer 2\n",
    "customer_2 = Customer(1, 'week', 3)"
   ]
  },
  {
   "cell_type": "code",
   "execution_count": 16,
   "metadata": {},
   "outputs": [
    {
     "data": {
      "text/plain": [
       "1"
      ]
     },
     "execution_count": 16,
     "metadata": {},
     "output_type": "execute_result"
    }
   ],
   "source": [
    "customer_2.number_of_bikes"
   ]
  },
  {
   "cell_type": "code",
   "execution_count": 17,
   "metadata": {},
   "outputs": [
    {
     "data": {
      "text/plain": [
       "'week'"
      ]
     },
     "execution_count": 17,
     "metadata": {},
     "output_type": "execute_result"
    }
   ],
   "source": [
    "customer_2.rental_basis"
   ]
  },
  {
   "cell_type": "code",
   "execution_count": 18,
   "metadata": {},
   "outputs": [
    {
     "data": {
      "text/plain": [
       "3"
      ]
     },
     "execution_count": 18,
     "metadata": {},
     "output_type": "execute_result"
    }
   ],
   "source": [
    "customer_2.number_of_days_or_weeks"
   ]
  },
  {
   "cell_type": "code",
   "execution_count": 19,
   "metadata": {},
   "outputs": [
    {
     "name": "stdout",
     "output_type": "stream",
     "text": [
      "You have rented 1 bike(s).\n",
      "We hope that you enjoy our service.\n",
      "Now we have 97 bikes in our stock.\n"
     ]
    }
   ],
   "source": [
    "customer_2.rentBike()"
   ]
  },
  {
   "cell_type": "code",
   "execution_count": 20,
   "metadata": {},
   "outputs": [
    {
     "data": {
      "text/plain": [
       "'That would be 1500 bill.'"
      ]
     },
     "execution_count": 20,
     "metadata": {},
     "output_type": "execute_result"
    }
   ],
   "source": [
    "customer_2.returnBike()"
   ]
  },
  {
   "cell_type": "code",
   "execution_count": 21,
   "metadata": {},
   "outputs": [],
   "source": [
    "# Customer 3\n",
    "customer_3 = Customer(4, 'day', 3)"
   ]
  },
  {
   "cell_type": "code",
   "execution_count": 22,
   "metadata": {},
   "outputs": [
    {
     "data": {
      "text/plain": [
       "'day'"
      ]
     },
     "execution_count": 22,
     "metadata": {},
     "output_type": "execute_result"
    }
   ],
   "source": [
    "customer_3.rental_basis"
   ]
  },
  {
   "cell_type": "code",
   "execution_count": 23,
   "metadata": {},
   "outputs": [
    {
     "data": {
      "text/plain": [
       "4"
      ]
     },
     "execution_count": 23,
     "metadata": {},
     "output_type": "execute_result"
    }
   ],
   "source": [
    "customer_3.number_of_bikes"
   ]
  },
  {
   "cell_type": "code",
   "execution_count": 24,
   "metadata": {},
   "outputs": [
    {
     "data": {
      "text/plain": [
       "3"
      ]
     },
     "execution_count": 24,
     "metadata": {},
     "output_type": "execute_result"
    }
   ],
   "source": [
    "customer_3.number_of_days_or_weeks"
   ]
  },
  {
   "cell_type": "code",
   "execution_count": 25,
   "metadata": {},
   "outputs": [
    {
     "name": "stdout",
     "output_type": "stream",
     "text": [
      "We have currently 97 bikes available to rent.\n"
     ]
    }
   ],
   "source": [
    "customer_3.displaystock()"
   ]
  },
  {
   "cell_type": "code",
   "execution_count": 26,
   "metadata": {},
   "outputs": [
    {
     "name": "stdout",
     "output_type": "stream",
     "text": [
      "You have rented 4 bike(s).\n",
      "We hope that you enjoy our service.\n",
      "Now we have 93 bikes in our stock.\n"
     ]
    }
   ],
   "source": [
    "customer_3.rentBike()"
   ]
  },
  {
   "cell_type": "code",
   "execution_count": 27,
   "metadata": {},
   "outputs": [
    {
     "name": "stdout",
     "output_type": "stream",
     "text": [
      "We have currently 93 bikes available to rent.\n"
     ]
    }
   ],
   "source": [
    "customer_3.displaystock()"
   ]
  },
  {
   "cell_type": "code",
   "execution_count": 28,
   "metadata": {},
   "outputs": [
    {
     "name": "stdout",
     "output_type": "stream",
     "text": [
      "You are eligible for family rental promotion of 30% discount\n",
      "Thanks for returning your bike. Hope you enjoyed our service!\n"
     ]
    },
    {
     "data": {
      "text/plain": [
       "'That would be 840.0 bill.'"
      ]
     },
     "execution_count": 28,
     "metadata": {},
     "output_type": "execute_result"
    }
   ],
   "source": [
    "customer_3.returnBike()"
   ]
  },
  {
   "cell_type": "code",
   "execution_count": 29,
   "metadata": {},
   "outputs": [],
   "source": [
    "# Customer 4\n",
    "customer_4 = Customer(3, 'week', 3)"
   ]
  },
  {
   "cell_type": "code",
   "execution_count": 30,
   "metadata": {},
   "outputs": [
    {
     "name": "stdout",
     "output_type": "stream",
     "text": [
      "We have currently 93 bikes available to rent.\n"
     ]
    }
   ],
   "source": [
    "customer_4.displaystock()"
   ]
  },
  {
   "cell_type": "code",
   "execution_count": 31,
   "metadata": {},
   "outputs": [
    {
     "data": {
      "text/plain": [
       "3"
      ]
     },
     "execution_count": 31,
     "metadata": {},
     "output_type": "execute_result"
    }
   ],
   "source": [
    "customer_4.number_of_bikes"
   ]
  },
  {
   "cell_type": "code",
   "execution_count": 32,
   "metadata": {},
   "outputs": [
    {
     "data": {
      "text/plain": [
       "'week'"
      ]
     },
     "execution_count": 32,
     "metadata": {},
     "output_type": "execute_result"
    }
   ],
   "source": [
    "customer_4.rental_basis"
   ]
  },
  {
   "cell_type": "code",
   "execution_count": 33,
   "metadata": {},
   "outputs": [
    {
     "data": {
      "text/plain": [
       "3"
      ]
     },
     "execution_count": 33,
     "metadata": {},
     "output_type": "execute_result"
    }
   ],
   "source": [
    "customer_4.number_of_days_or_weeks"
   ]
  },
  {
   "cell_type": "code",
   "execution_count": 34,
   "metadata": {},
   "outputs": [
    {
     "name": "stdout",
     "output_type": "stream",
     "text": [
      "You have rented 3 bike(s).\n",
      "We hope that you enjoy our service.\n",
      "Now we have 90 bikes in our stock.\n"
     ]
    }
   ],
   "source": [
    "customer_4.rentBike()"
   ]
  },
  {
   "cell_type": "code",
   "execution_count": 35,
   "metadata": {},
   "outputs": [
    {
     "name": "stdout",
     "output_type": "stream",
     "text": [
      "You are eligible for family rental promotion of 30% discount\n",
      "Thanks for returning your bike. Hope you enjoyed our service!\n"
     ]
    },
    {
     "data": {
      "text/plain": [
       "'That would be 3150.0 bill.'"
      ]
     },
     "execution_count": 35,
     "metadata": {},
     "output_type": "execute_result"
    }
   ],
   "source": [
    "customer_4.returnBike()"
   ]
  },
  {
   "cell_type": "code",
   "execution_count": 36,
   "metadata": {},
   "outputs": [
    {
     "name": "stdout",
     "output_type": "stream",
     "text": [
      "We have currently 90 bikes available to rent.\n"
     ]
    }
   ],
   "source": [
    "customer_4.displaystock()"
   ]
  },
  {
   "cell_type": "code",
   "execution_count": 37,
   "metadata": {},
   "outputs": [],
   "source": [
    "# customer 5\n",
    "customer_5 = Customer(120, 'week', 3)"
   ]
  },
  {
   "cell_type": "code",
   "execution_count": 38,
   "metadata": {},
   "outputs": [
    {
     "name": "stdout",
     "output_type": "stream",
     "text": [
      "Sorry! We have currently 90 bikes available to rent.\n"
     ]
    }
   ],
   "source": [
    "customer_5.rentBike()"
   ]
  },
  {
   "cell_type": "code",
   "execution_count": 39,
   "metadata": {},
   "outputs": [
    {
     "name": "stdout",
     "output_type": "stream",
     "text": [
      "Sorry! We have currently 90 bikes available to rent.\n"
     ]
    }
   ],
   "source": [
    "customer_5.returnBike()"
   ]
  },
  {
   "cell_type": "code",
   "execution_count": 40,
   "metadata": {},
   "outputs": [],
   "source": [
    "# Customer 6\n",
    "customer_6 = Customer(0, 'week', 3)"
   ]
  },
  {
   "cell_type": "code",
   "execution_count": 41,
   "metadata": {},
   "outputs": [
    {
     "name": "stdout",
     "output_type": "stream",
     "text": [
      "Number of bikes should be positive!\n"
     ]
    }
   ],
   "source": [
    "customer_6.rentBike()"
   ]
  },
  {
   "cell_type": "code",
   "execution_count": 42,
   "metadata": {},
   "outputs": [
    {
     "name": "stdout",
     "output_type": "stream",
     "text": [
      "Number of bikes should be positive!\n"
     ]
    }
   ],
   "source": [
    "customer_6.returnBike()"
   ]
  },
  {
   "cell_type": "code",
   "execution_count": 43,
   "metadata": {},
   "outputs": [],
   "source": [
    "# customer 7\n",
    "customer_7 = Customer(-5, 'week', 3)"
   ]
  },
  {
   "cell_type": "code",
   "execution_count": 44,
   "metadata": {},
   "outputs": [
    {
     "name": "stdout",
     "output_type": "stream",
     "text": [
      "Number of bikes should be positive!\n"
     ]
    }
   ],
   "source": [
    "customer_7.rentBike()"
   ]
  },
  {
   "cell_type": "code",
   "execution_count": 45,
   "metadata": {},
   "outputs": [
    {
     "name": "stdout",
     "output_type": "stream",
     "text": [
      "We have currently 90 bikes available to rent.\n"
     ]
    }
   ],
   "source": [
    "customer_7.displaystock()"
   ]
  },
  {
   "cell_type": "code",
   "execution_count": 46,
   "metadata": {},
   "outputs": [],
   "source": [
    "# Customer 8\n",
    "customer_8 = Customer(1, 'day', 3)"
   ]
  },
  {
   "cell_type": "code",
   "execution_count": 47,
   "metadata": {},
   "outputs": [
    {
     "name": "stdout",
     "output_type": "stream",
     "text": [
      "You have rented 1 bike(s).\n",
      "We hope that you enjoy our service.\n",
      "Now we have 89 bikes in our stock.\n"
     ]
    }
   ],
   "source": [
    "customer_8.rentBike()"
   ]
  },
  {
   "cell_type": "code",
   "execution_count": 48,
   "metadata": {},
   "outputs": [
    {
     "name": "stdout",
     "output_type": "stream",
     "text": [
      "We have currently 89 bikes available to rent.\n"
     ]
    }
   ],
   "source": [
    "customer_8.displaystock()"
   ]
  },
  {
   "cell_type": "code",
   "execution_count": null,
   "metadata": {},
   "outputs": [],
   "source": []
  }
 ],
 "metadata": {
  "kernelspec": {
   "display_name": "Python 3",
   "language": "python",
   "name": "python3"
  },
  "language_info": {
   "codemirror_mode": {
    "name": "ipython",
    "version": 3
   },
   "file_extension": ".py",
   "mimetype": "text/x-python",
   "name": "python",
   "nbconvert_exporter": "python",
   "pygments_lexer": "ipython3",
   "version": "3.8.5"
  }
 },
 "nbformat": 4,
 "nbformat_minor": 4
}
